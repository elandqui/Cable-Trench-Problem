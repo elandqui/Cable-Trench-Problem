{
 "cells": [
  {
   "cell_type": "code",
   "execution_count": 61,
   "metadata": {
    "collapsed": true
   },
   "outputs": [],
   "source": [
    "import math\n",
    "\n",
    "def mprim(m, tau, gamma = 1):\n",
    "    '''\n",
    "    Modified Prim's Algorithm - for dense graphs.\n",
    "    \n",
    "    This is not optimized for sparse graphs.\n",
    "    \n",
    "    Input: m:   an adjacency matrix. Entries are the weights of the edges.\n",
    "           tau: the per-unit trench cost (gamma = 1 by default)\n",
    "            \n",
    "    Output: the total cost and the adjacency list\n",
    "    '''\n",
    "    n = len(m)\n",
    "    dr = [math.inf for i in range(0, n)] # Distance of vertex i to the root\n",
    "    pre = [math.inf for i in range(0, n)] # current vertex in the solution tree of lowest cost\n",
    "    cost = [math.inf for i in range(0, n)] # cost to add in vertex i\n",
    "    cost[0] = 0 \n",
    "    vt = [0 for i in range(0, n)] # vertices in the solution tree: 0 out 1 in.\n",
    "    vt[0]=1 # The root is in the solution tree.\n",
    "    \n",
    "\n",
    "    # Initialize the vectors: Look at everything the root is adjacent to first.\n",
    "    for i in range(1, n):\n",
    "        if m[0][i]:\n",
    "            pre[i] = 0 # i and 0 are adjacent.\n",
    "            dr[i] = m[0][i]\n",
    "            cost[i] = (tau+gamma)*m[0][i]\n",
    "\n",
    "    # This is the key loop of MPrim.    \n",
    "    for i in range(1, n):\n",
    "        # Get minimum cost with index\n",
    "        k = -1 # Index of the current best vertex.\n",
    "        # The current minimum cost\n",
    "        curmin = math.inf\n",
    "        for j in range(1, n):\n",
    "            if not vt[j]:\n",
    "                if cost[j] < curmin:\n",
    "                    curmin = cost[j]\n",
    "                    k = j\n",
    "        # Now the best edge is (pre[k], k) with cost cost[k].\n",
    "        # Insert vertex k and edge (pre[k], k) into the solution tree.\n",
    "        #print(k)\n",
    "        vt[k] = 1\n",
    "        \n",
    "    \n",
    "        # Now update the cost and pre vectors.\n",
    "        for e in range(1, n):\n",
    "            # if edge (k, ?) is not in the tree\n",
    "            if (not vt[e]) and m[e][k]:\n",
    "                if ((dr[k] + m[e][k])*gamma + tau*m[e][k]) < cost[e]:\n",
    "                    dr[e] = dr[k] + m[e][k]\n",
    "                    cost[e] = gamma*dr[e] + tau*m[e][k]\n",
    "                    pre[e] = k\n",
    "        #print(cost)\n",
    "    return math.fsum(cost) #[math.fsum(cost), pre]\n"
   ]
  },
  {
   "cell_type": "code",
   "execution_count": 88,
   "metadata": {
    "scrolled": true
   },
   "outputs": [
    {
     "data": {
      "image/png": "[encoded data removed]",
      "text/plain": [
       "<matplotlib.figure.Figure at 0x7fa67a346208>"
      ]
     },
     "metadata": {},
     "output_type": "display_data"
    }
   ],
   "source": [
    "import math\n",
    "import matplotlib.pyplot as plt\n",
    "\n",
    "# These are the optimal costs for the graph represented by m below.\n",
    "def optimal(tau):\n",
    "    if tau <= 0.25:\n",
    "        return 56*tau + 108\n",
    "    elif tau <= 1:\n",
    "        return 52*tau + 109\n",
    "    elif tau <= 7:\n",
    "        return 44*tau + 117\n",
    "    elif tau <= 28:\n",
    "        return 43*tau + 124\n",
    "    else:\n",
    "        return 42*tau + 152\n",
    "\n",
    "# An adjacency matrix of a 9-vertex graph.\n",
    "m = [[0, 7, 10, 8, 0, 0, 0, 0, 0], [7, 0, 0, 6, 0, 7, 0, 0, 0], [10, 0, 0, 4, 4, 0, 0, 0, 0], [8, 6, 4, 0, 6, 5, 8, 0, 0], [0, 0, 3, 6, 0, 0, 6, 8, 0], [0, 7, 0, 5, 0, 0, 4, 0, 7], [0, 0, 0, 8, 6, 4, 0, 0, 5], [0, 0, 0, 0, 8, 0, 0, 0, 9], [0, 0, 0, 0, 0, 7, 5, 9, 0]]\n",
    "\n",
    "#Step-length\n",
    "h=0.05\n",
    "a = -6.0 # Start with tau = 2^(-6)\n",
    "b0 = 6.0 # End with tau = 2^6\n",
    "b = 2**b0\n",
    "psolx=[]\n",
    "psoly=[]\n",
    "while a < b0:\n",
    "    tau = 2**a\n",
    "    z = mprim(m, tau)\n",
    "    psolx.append(a)\n",
    "    opt = optimal(tau)\n",
    "    psoly.append((z-opt)*100/opt)\n",
    "    a += h\n",
    "#psoly\n",
    "plt.plot(psolx, psoly, '.', c='#701931')\n",
    "plt.xlabel(r\"$\\log_2(\\tau)$\")\n",
    "plt.ylabel(\"Percent Error\")\n",
    "plt.grid()\n",
    "plt.show()"
   ]
  },
  {
   "cell_type": "code",
   "execution_count": 93,
   "metadata": {},
   "outputs": [
    {
     "name": "stdout",
     "output_type": "stream",
     "text": [
      "1496.0 1496 0.0\n"
     ]
    }
   ],
   "source": [
    "tau = 32\n",
    "x, y = mprim(m, tau), optimal(tau)\n",
    "print(x, y, (x-y)/y)"
   ]
  },
  {
   "cell_type": "code",
   "execution_count": 95,
   "metadata": {},
   "outputs": [
    {
     "name": "stdout",
     "output_type": "stream",
     "text": [
      "[ 24.33677732+0.j  13.36746365+0.j   7.51190270+0.j   3.58583561+0.j\n",
      "  -1.51606797+0.j  -6.85366122+0.j -14.42082144+0.j -15.03263939+0.j\n",
      " -10.97878927+0.j]\n"
     ]
    }
   ],
   "source": [
    "import numpy as np\n",
    "from scipy import linalg\n",
    "l = linalg.eigvals(m)\n",
    "print(l)"
   ]
  },
  {
   "cell_type": "markdown",
   "metadata": {
    "collapsed": true
   },
   "source": [
    "$f(x) = \\sin(x)$"
   ]
  },
  {
   "cell_type": "markdown",
   "metadata": {},
   "source": [
    "# Heading"
   ]
  },
  {
   "cell_type": "markdown",
   "metadata": {},
   "source": [
    "## Subheading"
   ]
  },
  {
   "cell_type": "code",
   "execution_count": null,
   "metadata": {
    "collapsed": true
   },
   "outputs": [],
   "source": []
  }
 ],
 "metadata": {
  "kernelspec": {
   "display_name": "Python 3",
   "language": "python",
   "name": "python3"
  },
  "language_info": {
   "codemirror_mode": {
    "name": "ipython",
    "version": 3
   },
   "file_extension": ".py",
   "mimetype": "text/x-python",
   "name": "python",
   "nbconvert_exporter": "python",
   "pygments_lexer": "ipython3",
   "version": "3.6.1"
  }
 },
 "nbformat": 4,
 "nbformat_minor": 2
}
